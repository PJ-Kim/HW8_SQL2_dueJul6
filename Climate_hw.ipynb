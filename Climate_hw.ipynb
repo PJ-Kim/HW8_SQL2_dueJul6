{
 "cells": [
  {
   "cell_type": "code",
   "execution_count": 129,
   "metadata": {},
   "outputs": [],
   "source": [
    "%matplotlib inline\n",
    "from matplotlib import style\n",
    "style.use('fivethirtyeight')\n",
    "import matplotlib.pyplot as plt\n",
    "from datetime import datetime\n",
    "from matplotlib.pyplot import figure\n",
    "import numpy as np\n",
    "import pandas as pd\n",
    "import datetime as dt\n",
    "from flask import Flask, jsonify"
   ]
  },
  {
   "cell_type": "markdown",
   "metadata": {},
   "source": [
    "# Reflect Tables into SQLAlchemy ORM"
   ]
  },
  {
   "cell_type": "code",
   "execution_count": 130,
   "metadata": {},
   "outputs": [],
   "source": [
    "# Python SQL toolkit and Object Relational Mapper\n",
    "import sqlalchemy\n",
    "from sqlalchemy.ext.automap import automap_base\n",
    "from sqlalchemy.orm import Session\n",
    "from sqlalchemy import create_engine, func, inspect, distinct"
   ]
  },
  {
   "cell_type": "code",
   "execution_count": 131,
   "metadata": {},
   "outputs": [],
   "source": [
    "engine = create_engine(\"sqlite:///Resources/hawaii.sqlite\")"
   ]
  },
  {
   "cell_type": "code",
   "execution_count": 132,
   "metadata": {},
   "outputs": [],
   "source": [
    "# reflect an existing database into a new model\n",
    "Base = automap_base()\n",
    "# reflect the tables\n",
    "Base.prepare(engine, reflect=True)"
   ]
  },
  {
   "cell_type": "code",
   "execution_count": 133,
   "metadata": {},
   "outputs": [
    {
     "data": {
      "text/plain": [
       "['measurement', 'station']"
      ]
     },
     "execution_count": 133,
     "metadata": {},
     "output_type": "execute_result"
    }
   ],
   "source": [
    "# We can view all of the classes that automap found\n",
    "Base.classes.keys()"
   ]
  },
  {
   "cell_type": "code",
   "execution_count": 134,
   "metadata": {},
   "outputs": [],
   "source": [
    "# Save references to each table\n",
    "Measurement = Base.classes.measurement\n",
    "Station = Base.classes.station"
   ]
  },
  {
   "cell_type": "code",
   "execution_count": 135,
   "metadata": {},
   "outputs": [],
   "source": [
    "# Create our session (link) from Python to the DB\n",
    "session = Session(engine)"
   ]
  },
  {
   "cell_type": "code",
   "execution_count": 136,
   "metadata": {},
   "outputs": [
    {
     "data": {
      "text/plain": [
       "['measurement', 'station']"
      ]
     },
     "execution_count": 136,
     "metadata": {},
     "output_type": "execute_result"
    }
   ],
   "source": [
    "inspector = inspect(engine)\n",
    "inspector.get_table_names()"
   ]
  },
  {
   "cell_type": "code",
   "execution_count": 137,
   "metadata": {},
   "outputs": [
    {
     "name": "stdout",
     "output_type": "stream",
     "text": [
      "id INTEGER\n",
      "station TEXT\n",
      "date TEXT\n",
      "prcp FLOAT\n",
      "tobs FLOAT\n"
     ]
    }
   ],
   "source": [
    "# Inspector to print column name and types from db Hawaii_measurement\n",
    "columns = inspector.get_columns('measurement')\n",
    "for c in columns:\n",
    "        print(c['name'],c[\"type\"])"
   ]
  },
  {
   "cell_type": "code",
   "execution_count": 138,
   "metadata": {},
   "outputs": [
    {
     "name": "stdout",
     "output_type": "stream",
     "text": [
      "id INTEGER\n",
      "station TEXT\n",
      "name TEXT\n",
      "latitude FLOAT\n",
      "longitude FLOAT\n",
      "elevation FLOAT\n"
     ]
    }
   ],
   "source": [
    "# Inspector to print column name and types from db Hawaii_station\n",
    "columns = inspector.get_columns('station')\n",
    "for c in columns:\n",
    "        print(c['name'],c[\"type\"])"
   ]
  },
  {
   "cell_type": "code",
   "execution_count": 139,
   "metadata": {
    "scrolled": true
   },
   "outputs": [
    {
     "data": {
      "text/plain": [
       "[(1, 'USC00519397', '2010-01-01', 0.08, 65.0),\n",
       " (2, 'USC00519397', '2010-01-02', 0.0, 63.0),\n",
       " (3, 'USC00519397', '2010-01-03', 0.0, 74.0),\n",
       " (4, 'USC00519397', '2010-01-04', 0.0, 76.0),\n",
       " (5, 'USC00519397', '2010-01-06', None, 73.0),\n",
       " (6, 'USC00519397', '2010-01-07', 0.06, 70.0),\n",
       " (7, 'USC00519397', '2010-01-08', 0.0, 64.0),\n",
       " (8, 'USC00519397', '2010-01-09', 0.0, 68.0),\n",
       " (9, 'USC00519397', '2010-01-10', 0.0, 73.0),\n",
       " (10, 'USC00519397', '2010-01-11', 0.01, 64.0)]"
      ]
     },
     "execution_count": 139,
     "metadata": {},
     "output_type": "execute_result"
    }
   ],
   "source": [
    "# Use `engine.execute` to select and display the first 10 rows from the measurement table\n",
    "engine.execute('SELECT * FROM measurement LIMIT 10').fetchall()"
   ]
  },
  {
   "cell_type": "markdown",
   "metadata": {},
   "source": [
    "# Exploratory Climate Analysis"
   ]
  },
  {
   "cell_type": "code",
   "execution_count": 140,
   "metadata": {},
   "outputs": [],
   "source": [
    "# Design a query to retrieve the last 12 months of precipitation data and plot the results\n",
    "\n",
    "# Calculate the date 1 year ago from the last data point in the database\n",
    "\n",
    "# Perform a query to retrieve the data and precipitation scores\n",
    "\n",
    "# Save the query results as a Pandas DataFrame and set the index to the date column\n",
    "\n",
    "# Sort the dataframe by date\n",
    "\n",
    "# Use Pandas Plotting with Matplotlib to plot the data\n"
   ]
  },
  {
   "cell_type": "code",
   "execution_count": 141,
   "metadata": {},
   "outputs": [],
   "source": [
    "# Reflect measurements db into ORM class\n",
    "Base = automap_base()\n",
    "Base.prepare(engine, reflect=True)\n",
    "measurement = Base.classes.measurement"
   ]
  },
  {
   "cell_type": "code",
   "execution_count": 142,
   "metadata": {},
   "outputs": [],
   "source": [
    "# Reflect station db into ORM class\n",
    "Base = automap_base()\n",
    "Base.prepare(engine, reflect=True)\n",
    "station = Base.classes.station"
   ]
  },
  {
   "cell_type": "markdown",
   "metadata": {},
   "source": [
    "![precipitation](Images/precipitation.png)"
   ]
  },
  {
   "cell_type": "code",
   "execution_count": 143,
   "metadata": {},
   "outputs": [
    {
     "data": {
      "text/plain": [
       "[(19550)]"
      ]
     },
     "execution_count": 143,
     "metadata": {},
     "output_type": "execute_result"
    }
   ],
   "source": [
    "# total records in measurements table\n",
    "session.query(func.count(measurement.date)).all()"
   ]
  },
  {
   "cell_type": "code",
   "execution_count": 144,
   "metadata": {},
   "outputs": [
    {
     "name": "stdout",
     "output_type": "stream",
     "text": [
      "('2017-08-23',)\n"
     ]
    }
   ],
   "source": [
    "# 1b Find most recent date\n",
    "last_date = session.query(measurement.date).order_by(measurement.date.desc()).first()\n",
    "print(last_date)"
   ]
  },
  {
   "cell_type": "code",
   "execution_count": 145,
   "metadata": {},
   "outputs": [
    {
     "name": "stdout",
     "output_type": "stream",
     "text": [
      "2017-08-23 00:00:00\n"
     ]
    }
   ],
   "source": [
    "last_date = datetime.strptime('2017-8-23','%Y-%m-%d')\n",
    "print(last_date)"
   ]
  },
  {
   "cell_type": "code",
   "execution_count": 146,
   "metadata": {},
   "outputs": [
    {
     "name": "stdout",
     "output_type": "stream",
     "text": [
      "Date 1yr ago:  2016-08-23\n"
     ]
    }
   ],
   "source": [
    "# 1a Calculate the date 1 year ago from the last data point in the database\n",
    "one_yrprior_date = dt.date(2017, 8, 23) - dt.timedelta(days=365)\n",
    "print(\"Date 1yr ago: \",one_yrprior_date)"
   ]
  },
  {
   "cell_type": "code",
   "execution_count": 147,
   "metadata": {},
   "outputs": [
    {
     "data": {
      "text/html": [
       "<div>\n",
       "<style scoped>\n",
       "    .dataframe tbody tr th:only-of-type {\n",
       "        vertical-align: middle;\n",
       "    }\n",
       "\n",
       "    .dataframe tbody tr th {\n",
       "        vertical-align: top;\n",
       "    }\n",
       "\n",
       "    .dataframe thead th {\n",
       "        text-align: right;\n",
       "    }\n",
       "</style>\n",
       "<table border=\"1\" class=\"dataframe\">\n",
       "  <thead>\n",
       "    <tr style=\"text-align: right;\">\n",
       "      <th></th>\n",
       "      <th>date</th>\n",
       "      <th>prcp</th>\n",
       "    </tr>\n",
       "  </thead>\n",
       "  <tbody>\n",
       "    <tr>\n",
       "      <th>0</th>\n",
       "      <td>2016-08-23</td>\n",
       "      <td>0.00</td>\n",
       "    </tr>\n",
       "    <tr>\n",
       "      <th>1</th>\n",
       "      <td>2016-08-23</td>\n",
       "      <td>0.15</td>\n",
       "    </tr>\n",
       "    <tr>\n",
       "      <th>2</th>\n",
       "      <td>2016-08-23</td>\n",
       "      <td>0.05</td>\n",
       "    </tr>\n",
       "    <tr>\n",
       "      <th>3</th>\n",
       "      <td>2016-08-23</td>\n",
       "      <td>NaN</td>\n",
       "    </tr>\n",
       "    <tr>\n",
       "      <th>4</th>\n",
       "      <td>2016-08-23</td>\n",
       "      <td>0.02</td>\n",
       "    </tr>\n",
       "  </tbody>\n",
       "</table>\n",
       "</div>"
      ],
      "text/plain": [
       "         date  prcp\n",
       "0  2016-08-23  0.00\n",
       "1  2016-08-23  0.15\n",
       "2  2016-08-23  0.05\n",
       "3  2016-08-23   NaN\n",
       "4  2016-08-23  0.02"
      ]
     },
     "execution_count": 147,
     "metadata": {},
     "output_type": "execute_result"
    }
   ],
   "source": [
    "# 1b Perform a query to retrieve the date and precipitation scores\n",
    "# 1c Save results to Pandas dataframe\n",
    "\n",
    "oneyr_prcp = session.query(measurement.date, measurement.prcp).\\\n",
    "    filter(measurement.date >= one_yrprior_date).\\\n",
    "    order_by(measurement.date).all() \n",
    "prcp_date_df = pd.DataFrame(oneyr_prcp)\n",
    "prcp_date_df.head(5)"
   ]
  },
  {
   "cell_type": "code",
   "execution_count": 148,
   "metadata": {},
   "outputs": [
    {
     "data": {
      "text/html": [
       "<div>\n",
       "<style scoped>\n",
       "    .dataframe tbody tr th:only-of-type {\n",
       "        vertical-align: middle;\n",
       "    }\n",
       "\n",
       "    .dataframe tbody tr th {\n",
       "        vertical-align: top;\n",
       "    }\n",
       "\n",
       "    .dataframe thead th {\n",
       "        text-align: right;\n",
       "    }\n",
       "</style>\n",
       "<table border=\"1\" class=\"dataframe\">\n",
       "  <thead>\n",
       "    <tr style=\"text-align: right;\">\n",
       "      <th></th>\n",
       "      <th>prcp</th>\n",
       "    </tr>\n",
       "    <tr>\n",
       "      <th>date</th>\n",
       "      <th></th>\n",
       "    </tr>\n",
       "  </thead>\n",
       "  <tbody>\n",
       "    <tr>\n",
       "      <th>2016-08-23</th>\n",
       "      <td>0.00</td>\n",
       "    </tr>\n",
       "    <tr>\n",
       "      <th>2016-08-23</th>\n",
       "      <td>0.15</td>\n",
       "    </tr>\n",
       "    <tr>\n",
       "      <th>2016-08-23</th>\n",
       "      <td>0.05</td>\n",
       "    </tr>\n",
       "    <tr>\n",
       "      <th>2016-08-23</th>\n",
       "      <td>NaN</td>\n",
       "    </tr>\n",
       "    <tr>\n",
       "      <th>2016-08-23</th>\n",
       "      <td>0.02</td>\n",
       "    </tr>\n",
       "  </tbody>\n",
       "</table>\n",
       "</div>"
      ],
      "text/plain": [
       "            prcp\n",
       "date            \n",
       "2016-08-23  0.00\n",
       "2016-08-23  0.15\n",
       "2016-08-23  0.05\n",
       "2016-08-23   NaN\n",
       "2016-08-23  0.02"
      ]
     },
     "execution_count": 148,
     "metadata": {},
     "output_type": "execute_result"
    }
   ],
   "source": [
    "# 1d set date column as the index\n",
    "prcp_date_df.set_index('date', inplace=True)\n",
    "prcp_date_df.head(5)"
   ]
  },
  {
   "cell_type": "code",
   "execution_count": 149,
   "metadata": {},
   "outputs": [],
   "source": [
    "# 1e Sort ascending on index date\n",
    "prcp_date_df.sort_index(axis=0, level=None, ascending=True, inplace=True)\n",
    "# prcp_date_df.to_csv(r'File Name.csv')"
   ]
  },
  {
   "cell_type": "code",
   "execution_count": 150,
   "metadata": {
    "scrolled": true
   },
   "outputs": [
    {
     "name": "stderr",
     "output_type": "stream",
     "text": [
      "C:\\Users\\pk949\\Anaconda3\\envs\\PythonData\\lib\\site-packages\\ipykernel_launcher.py:3: MatplotlibDeprecationWarning: Adding an axes using the same arguments as a previous axes currently reuses the earlier instance.  In a future version, a new instance will always be created and returned.  Meanwhile, this warning can be suppressed, and the future behavior ensured, by passing a unique label to each axes instance.\n",
      "  This is separate from the ipykernel package so we can avoid doing imports until\n"
     ]
    },
    {
     "data": {
      "text/plain": [
       "<matplotlib.legend.Legend at 0x1b5c46dd438>"
      ]
     },
     "execution_count": 150,
     "metadata": {},
     "output_type": "execute_result"
    },
    {
     "data": {
      "image/png": "[encoded data removed]",
      "text/plain": [
       "<Figure size 432x288 with 1 Axes>"
      ]
     },
     "metadata": {},
     "output_type": "display_data"
    }
   ],
   "source": [
    "plt.grid\n",
    "prcp_date_df.plot(legend = False)\n",
    "ax1 = plt.axes()\n",
    "x_axis = ax1.axes.get_xaxis()\n",
    "x_axis.set_visible(False)\n",
    "#x_axis.set_label_text('Date')\n",
    "# x_label = x_axis.get_label()\n",
    "#x_label.set_visible(True)\n",
    "plt.xlabel('xlabel', fontsize=18)\n",
    "plt.legend(('precipitation',), loc= 'upper center', handlelength=3, handletextpad =2)\n"
   ]
  },
  {
   "cell_type": "code",
   "execution_count": 151,
   "metadata": {},
   "outputs": [
    {
     "data": {
      "text/html": [
       "<div>\n",
       "<style scoped>\n",
       "    .dataframe tbody tr th:only-of-type {\n",
       "        vertical-align: middle;\n",
       "    }\n",
       "\n",
       "    .dataframe tbody tr th {\n",
       "        vertical-align: top;\n",
       "    }\n",
       "\n",
       "    .dataframe thead th {\n",
       "        text-align: right;\n",
       "    }\n",
       "</style>\n",
       "<table border=\"1\" class=\"dataframe\">\n",
       "  <thead>\n",
       "    <tr style=\"text-align: right;\">\n",
       "      <th></th>\n",
       "      <th>prcp</th>\n",
       "    </tr>\n",
       "  </thead>\n",
       "  <tbody>\n",
       "    <tr>\n",
       "      <th>count</th>\n",
       "      <td>2021.000000</td>\n",
       "    </tr>\n",
       "    <tr>\n",
       "      <th>mean</th>\n",
       "      <td>0.177279</td>\n",
       "    </tr>\n",
       "    <tr>\n",
       "      <th>std</th>\n",
       "      <td>0.461190</td>\n",
       "    </tr>\n",
       "    <tr>\n",
       "      <th>min</th>\n",
       "      <td>0.000000</td>\n",
       "    </tr>\n",
       "    <tr>\n",
       "      <th>25%</th>\n",
       "      <td>0.000000</td>\n",
       "    </tr>\n",
       "    <tr>\n",
       "      <th>50%</th>\n",
       "      <td>0.020000</td>\n",
       "    </tr>\n",
       "    <tr>\n",
       "      <th>75%</th>\n",
       "      <td>0.130000</td>\n",
       "    </tr>\n",
       "    <tr>\n",
       "      <th>max</th>\n",
       "      <td>6.700000</td>\n",
       "    </tr>\n",
       "  </tbody>\n",
       "</table>\n",
       "</div>"
      ],
      "text/plain": [
       "              prcp\n",
       "count  2021.000000\n",
       "mean      0.177279\n",
       "std       0.461190\n",
       "min       0.000000\n",
       "25%       0.000000\n",
       "50%       0.020000\n",
       "75%       0.130000\n",
       "max       6.700000"
      ]
     },
     "execution_count": 151,
     "metadata": {},
     "output_type": "execute_result"
    }
   ],
   "source": [
    "# Use Pandas to calcualte the summary statistics for the precipitation data\n",
    "prcp_date_df2 = pd.DataFrame(prcp_date_df.describe())\n",
    "prcp_date_df2"
   ]
  },
  {
   "cell_type": "markdown",
   "metadata": {},
   "source": [
    "![describe](Images/describe.png)"
   ]
  },
  {
   "cell_type": "code",
   "execution_count": 152,
   "metadata": {},
   "outputs": [
    {
     "name": "stdout",
     "output_type": "stream",
     "text": [
      "Number of stations: [(9,)]\n"
     ]
    }
   ],
   "source": [
    "# Design a query to show how many stations are available in this dataset?\n",
    "ct = session.query(func.count(distinct(measurement.station))).all()\n",
    "print(\"Number of stations:\", ct)"
   ]
  },
  {
   "cell_type": "code",
   "execution_count": 153,
   "metadata": {},
   "outputs": [
    {
     "name": "stdout",
     "output_type": "stream",
     "text": [
      "Unique station: ('USC00519397',)\n",
      "Unique station: ('USC00513117',)\n",
      "Unique station: ('USC00514830',)\n",
      "Unique station: ('USC00517948',)\n",
      "Unique station: ('USC00518838',)\n",
      "Unique station: ('USC00519523',)\n",
      "Unique station: ('USC00519281',)\n",
      "Unique station: ('USC00511918',)\n",
      "Unique station: ('USC00516128',)\n"
     ]
    }
   ],
   "source": [
    "# what are the distinct stations are available in this dataset?\n",
    "for stations in session.query(measurement.station).distinct():\n",
    "    print(\"Unique station:\", stations)\n"
   ]
  },
  {
   "cell_type": "code",
   "execution_count": 154,
   "metadata": {},
   "outputs": [
    {
     "data": {
      "text/plain": [
       "[(2772, 'USC00519281'),\n",
       " (2724, 'USC00519397'),\n",
       " (2709, 'USC00513117'),\n",
       " (2669, 'USC00519523'),\n",
       " (2612, 'USC00516128'),\n",
       " (2202, 'USC00514830'),\n",
       " (1979, 'USC00511918'),\n",
       " (1372, 'USC00517948'),\n",
       " (511, 'USC00518838')]"
      ]
     },
     "execution_count": 154,
     "metadata": {},
     "output_type": "execute_result"
    }
   ],
   "source": [
    "# What are the most active stations? (i.e. what stations have the most rows)?\n",
    "# List the stations and the counts in descending order.\n",
    "session.query(func.count(measurement.station).label(\"sta_ct\"),measurement.station).\\\n",
    "    group_by(measurement.station).\\\n",
    "    order_by(func.count(measurement.station).desc()).all()\n"
   ]
  },
  {
   "cell_type": "code",
   "execution_count": 155,
   "metadata": {},
   "outputs": [
    {
     "data": {
      "text/html": [
       "<div>\n",
       "<style scoped>\n",
       "    .dataframe tbody tr th:only-of-type {\n",
       "        vertical-align: middle;\n",
       "    }\n",
       "\n",
       "    .dataframe tbody tr th {\n",
       "        vertical-align: top;\n",
       "    }\n",
       "\n",
       "    .dataframe thead th {\n",
       "        text-align: right;\n",
       "    }\n",
       "</style>\n",
       "<table border=\"1\" class=\"dataframe\">\n",
       "  <thead>\n",
       "    <tr style=\"text-align: right;\">\n",
       "      <th></th>\n",
       "      <th>date</th>\n",
       "      <th>prcp</th>\n",
       "    </tr>\n",
       "  </thead>\n",
       "  <tbody>\n",
       "    <tr>\n",
       "      <th>0</th>\n",
       "      <td>2016-08-23</td>\n",
       "      <td>0.00</td>\n",
       "    </tr>\n",
       "    <tr>\n",
       "      <th>1</th>\n",
       "      <td>2016-08-23</td>\n",
       "      <td>0.15</td>\n",
       "    </tr>\n",
       "    <tr>\n",
       "      <th>2</th>\n",
       "      <td>2016-08-23</td>\n",
       "      <td>0.05</td>\n",
       "    </tr>\n",
       "    <tr>\n",
       "      <th>3</th>\n",
       "      <td>2016-08-23</td>\n",
       "      <td>NaN</td>\n",
       "    </tr>\n",
       "    <tr>\n",
       "      <th>4</th>\n",
       "      <td>2016-08-23</td>\n",
       "      <td>0.02</td>\n",
       "    </tr>\n",
       "  </tbody>\n",
       "</table>\n",
       "</div>"
      ],
      "text/plain": [
       "         date  prcp\n",
       "0  2016-08-23  0.00\n",
       "1  2016-08-23  0.15\n",
       "2  2016-08-23  0.05\n",
       "3  2016-08-23   NaN\n",
       "4  2016-08-23  0.02"
      ]
     },
     "execution_count": 155,
     "metadata": {},
     "output_type": "execute_result"
    }
   ],
   "source": [
    "oneyr_prcp = session.query(measurement.date, measurement.prcp).\\\n",
    "    filter(measurement.date >= '2016-08-23').\\\n",
    "    order_by(measurement.date).all() \n",
    "prcp_date_df = pd.DataFrame(oneyr_prcp)\n",
    "prcp_date_df.head(5)"
   ]
  },
  {
   "cell_type": "code",
   "execution_count": 156,
   "metadata": {},
   "outputs": [
    {
     "data": {
      "text/plain": [
       "[('2016-08-23', 'USC00513117'),\n",
       " ('2016-08-24', 'USC00513117'),\n",
       " ('2016-08-25', 'USC00513117'),\n",
       " ('2016-08-26', 'USC00513117'),\n",
       " ('2016-08-27', 'USC00513117'),\n",
       " ('2016-08-28', 'USC00513117'),\n",
       " ('2016-08-29', 'USC00513117'),\n",
       " ('2016-08-30', 'USC00513117'),\n",
       " ('2016-08-31', 'USC00513117'),\n",
       " ('2016-09-01', 'USC00513117'),\n",
       " ('2016-09-02', 'USC00513117'),\n",
       " ('2016-09-03', 'USC00513117'),\n",
       " ('2016-09-04', 'USC00513117'),\n",
       " ('2016-09-05', 'USC00513117'),\n",
       " ('2016-09-06', 'USC00513117'),\n",
       " ('2016-09-07', 'USC00513117'),\n",
       " ('2016-09-08', 'USC00513117'),\n",
       " ('2016-09-09', 'USC00513117'),\n",
       " ('2016-09-10', 'USC00513117'),\n",
       " ('2016-09-11', 'USC00513117'),\n",
       " ('2016-09-12', 'USC00513117'),\n",
       " ('2016-09-13', 'USC00513117'),\n",
       " ('2016-09-14', 'USC00513117'),\n",
       " ('2016-09-15', 'USC00513117'),\n",
       " ('2016-09-16', 'USC00513117'),\n",
       " ('2016-09-17', 'USC00513117'),\n",
       " ('2016-09-18', 'USC00513117'),\n",
       " ('2016-09-19', 'USC00513117'),\n",
       " ('2016-09-20', 'USC00513117'),\n",
       " ('2016-09-21', 'USC00513117'),\n",
       " ('2016-09-22', 'USC00513117'),\n",
       " ('2016-09-23', 'USC00513117'),\n",
       " ('2016-09-24', 'USC00513117'),\n",
       " ('2016-09-25', 'USC00513117'),\n",
       " ('2016-09-26', 'USC00513117'),\n",
       " ('2016-09-27', 'USC00513117'),\n",
       " ('2016-09-28', 'USC00513117'),\n",
       " ('2016-09-29', 'USC00513117'),\n",
       " ('2016-09-30', 'USC00513117'),\n",
       " ('2016-10-01', 'USC00513117'),\n",
       " ('2016-10-02', 'USC00513117'),\n",
       " ('2016-10-03', 'USC00513117'),\n",
       " ('2016-10-04', 'USC00513117'),\n",
       " ('2016-10-05', 'USC00513117'),\n",
       " ('2016-10-06', 'USC00513117'),\n",
       " ('2016-10-07', 'USC00513117'),\n",
       " ('2016-10-08', 'USC00513117'),\n",
       " ('2016-10-09', 'USC00513117'),\n",
       " ('2016-10-10', 'USC00513117'),\n",
       " ('2016-10-11', 'USC00513117'),\n",
       " ('2016-10-12', 'USC00513117'),\n",
       " ('2016-10-13', 'USC00513117'),\n",
       " ('2016-10-14', 'USC00513117'),\n",
       " ('2016-10-15', 'USC00513117'),\n",
       " ('2016-10-16', 'USC00513117'),\n",
       " ('2016-10-17', 'USC00513117'),\n",
       " ('2016-10-18', 'USC00513117'),\n",
       " ('2016-10-19', 'USC00513117'),\n",
       " ('2016-10-20', 'USC00513117'),\n",
       " ('2016-10-21', 'USC00513117'),\n",
       " ('2016-10-22', 'USC00513117'),\n",
       " ('2016-10-23', 'USC00513117'),\n",
       " ('2016-10-24', 'USC00513117'),\n",
       " ('2016-10-25', 'USC00513117'),\n",
       " ('2016-10-26', 'USC00513117'),\n",
       " ('2016-10-27', 'USC00513117'),\n",
       " ('2016-10-28', 'USC00513117'),\n",
       " ('2016-10-29', 'USC00513117'),\n",
       " ('2016-10-30', 'USC00513117'),\n",
       " ('2016-10-31', 'USC00513117'),\n",
       " ('2016-11-01', 'USC00513117'),\n",
       " ('2016-11-02', 'USC00513117'),\n",
       " ('2016-11-03', 'USC00513117'),\n",
       " ('2016-11-04', 'USC00513117'),\n",
       " ('2016-11-05', 'USC00513117'),\n",
       " ('2016-11-06', 'USC00513117'),\n",
       " ('2016-11-07', 'USC00513117'),\n",
       " ('2016-11-08', 'USC00513117'),\n",
       " ('2016-11-09', 'USC00513117'),\n",
       " ('2016-11-10', 'USC00513117'),\n",
       " ('2016-11-11', 'USC00513117'),\n",
       " ('2016-11-12', 'USC00513117'),\n",
       " ('2016-11-13', 'USC00513117'),\n",
       " ('2016-11-14', 'USC00513117'),\n",
       " ('2016-11-15', 'USC00513117'),\n",
       " ('2016-11-16', 'USC00513117'),\n",
       " ('2016-11-17', 'USC00513117'),\n",
       " ('2016-11-18', 'USC00513117'),\n",
       " ('2016-11-19', 'USC00513117'),\n",
       " ('2016-11-20', 'USC00513117'),\n",
       " ('2016-11-21', 'USC00513117'),\n",
       " ('2016-11-22', 'USC00513117'),\n",
       " ('2016-11-23', 'USC00513117'),\n",
       " ('2016-11-24', 'USC00513117'),\n",
       " ('2016-11-25', 'USC00513117'),\n",
       " ('2016-11-26', 'USC00513117'),\n",
       " ('2016-11-27', 'USC00513117'),\n",
       " ('2016-11-28', 'USC00513117'),\n",
       " ('2016-11-29', 'USC00513117'),\n",
       " ('2016-11-30', 'USC00513117'),\n",
       " ('2016-12-01', 'USC00513117'),\n",
       " ('2016-12-02', 'USC00513117'),\n",
       " ('2016-12-03', 'USC00513117'),\n",
       " ('2016-12-04', 'USC00513117'),\n",
       " ('2016-12-05', 'USC00513117'),\n",
       " ('2016-12-06', 'USC00513117'),\n",
       " ('2016-12-07', 'USC00513117'),\n",
       " ('2016-12-08', 'USC00513117'),\n",
       " ('2016-12-09', 'USC00513117'),\n",
       " ('2016-12-10', 'USC00513117'),\n",
       " ('2016-12-11', 'USC00513117'),\n",
       " ('2016-12-12', 'USC00513117'),\n",
       " ('2016-12-13', 'USC00513117'),\n",
       " ('2016-12-14', 'USC00513117'),\n",
       " ('2016-12-15', 'USC00513117'),\n",
       " ('2016-12-16', 'USC00513117'),\n",
       " ('2016-12-17', 'USC00513117'),\n",
       " ('2016-12-18', 'USC00513117'),\n",
       " ('2016-12-19', 'USC00513117'),\n",
       " ('2016-12-20', 'USC00513117'),\n",
       " ('2016-12-21', 'USC00513117'),\n",
       " ('2016-12-22', 'USC00513117'),\n",
       " ('2016-12-23', 'USC00513117'),\n",
       " ('2016-12-24', 'USC00513117'),\n",
       " ('2016-12-25', 'USC00513117'),\n",
       " ('2016-12-26', 'USC00513117'),\n",
       " ('2016-12-27', 'USC00513117'),\n",
       " ('2016-12-28', 'USC00513117'),\n",
       " ('2016-12-29', 'USC00513117'),\n",
       " ('2016-12-30', 'USC00513117'),\n",
       " ('2016-12-31', 'USC00513117'),\n",
       " ('2017-01-01', 'USC00513117'),\n",
       " ('2017-01-02', 'USC00513117'),\n",
       " ('2017-01-03', 'USC00513117'),\n",
       " ('2017-01-04', 'USC00513117'),\n",
       " ('2017-01-05', 'USC00513117'),\n",
       " ('2017-01-06', 'USC00513117'),\n",
       " ('2017-01-07', 'USC00513117'),\n",
       " ('2017-01-08', 'USC00513117'),\n",
       " ('2017-01-09', 'USC00513117'),\n",
       " ('2017-01-10', 'USC00513117'),\n",
       " ('2017-01-11', 'USC00513117'),\n",
       " ('2017-01-12', 'USC00513117'),\n",
       " ('2017-01-13', 'USC00513117'),\n",
       " ('2017-01-14', 'USC00513117'),\n",
       " ('2017-01-15', 'USC00513117'),\n",
       " ('2017-01-16', 'USC00513117'),\n",
       " ('2017-01-17', 'USC00513117'),\n",
       " ('2017-01-18', 'USC00513117'),\n",
       " ('2017-01-19', 'USC00513117'),\n",
       " ('2017-01-20', 'USC00513117'),\n",
       " ('2017-01-21', 'USC00513117'),\n",
       " ('2017-01-22', 'USC00513117'),\n",
       " ('2017-01-23', 'USC00513117'),\n",
       " ('2017-01-24', 'USC00513117'),\n",
       " ('2017-01-25', 'USC00513117'),\n",
       " ('2017-01-26', 'USC00513117'),\n",
       " ('2017-01-27', 'USC00513117'),\n",
       " ('2017-01-28', 'USC00513117'),\n",
       " ('2017-01-29', 'USC00513117'),\n",
       " ('2017-01-30', 'USC00513117'),\n",
       " ('2017-01-31', 'USC00513117'),\n",
       " ('2017-02-01', 'USC00513117'),\n",
       " ('2017-02-02', 'USC00513117'),\n",
       " ('2017-02-03', 'USC00513117'),\n",
       " ('2017-02-04', 'USC00513117'),\n",
       " ('2017-02-05', 'USC00513117'),\n",
       " ('2017-02-06', 'USC00513117'),\n",
       " ('2017-02-07', 'USC00513117'),\n",
       " ('2017-02-08', 'USC00513117'),\n",
       " ('2017-02-09', 'USC00513117'),\n",
       " ('2017-02-10', 'USC00513117'),\n",
       " ('2017-02-11', 'USC00513117'),\n",
       " ('2017-02-12', 'USC00513117'),\n",
       " ('2017-02-13', 'USC00513117'),\n",
       " ('2017-02-14', 'USC00513117'),\n",
       " ('2017-02-15', 'USC00513117'),\n",
       " ('2017-02-16', 'USC00513117'),\n",
       " ('2017-02-17', 'USC00513117'),\n",
       " ('2017-02-18', 'USC00513117'),\n",
       " ('2017-02-19', 'USC00513117'),\n",
       " ('2017-02-20', 'USC00513117'),\n",
       " ('2017-02-21', 'USC00513117'),\n",
       " ('2017-02-22', 'USC00513117'),\n",
       " ('2017-02-23', 'USC00513117'),\n",
       " ('2017-02-24', 'USC00513117'),\n",
       " ('2017-02-25', 'USC00513117'),\n",
       " ('2017-02-26', 'USC00513117'),\n",
       " ('2017-02-27', 'USC00513117'),\n",
       " ('2017-02-28', 'USC00513117'),\n",
       " ('2017-03-01', 'USC00513117'),\n",
       " ('2017-03-02', 'USC00513117'),\n",
       " ('2017-03-03', 'USC00513117'),\n",
       " ('2017-03-04', 'USC00513117'),\n",
       " ('2017-03-05', 'USC00513117'),\n",
       " ('2017-03-06', 'USC00513117'),\n",
       " ('2017-03-07', 'USC00513117'),\n",
       " ('2017-03-08', 'USC00513117'),\n",
       " ('2017-03-09', 'USC00513117'),\n",
       " ('2017-03-10', 'USC00513117'),\n",
       " ('2017-03-11', 'USC00513117'),\n",
       " ('2017-03-12', 'USC00513117'),\n",
       " ('2017-03-13', 'USC00513117'),\n",
       " ('2017-03-14', 'USC00513117'),\n",
       " ('2017-03-15', 'USC00513117'),\n",
       " ('2017-03-16', 'USC00513117'),\n",
       " ('2017-03-17', 'USC00513117'),\n",
       " ('2017-03-18', 'USC00513117'),\n",
       " ('2017-03-19', 'USC00513117'),\n",
       " ('2017-03-20', 'USC00513117'),\n",
       " ('2017-03-21', 'USC00513117'),\n",
       " ('2017-03-22', 'USC00513117'),\n",
       " ('2017-03-23', 'USC00513117'),\n",
       " ('2017-03-24', 'USC00513117'),\n",
       " ('2017-03-25', 'USC00513117'),\n",
       " ('2017-03-26', 'USC00513117'),\n",
       " ('2017-03-27', 'USC00513117'),\n",
       " ('2017-03-28', 'USC00513117'),\n",
       " ('2017-03-29', 'USC00513117'),\n",
       " ('2017-03-30', 'USC00513117'),\n",
       " ('2017-03-31', 'USC00513117'),\n",
       " ('2017-04-01', 'USC00513117'),\n",
       " ('2017-04-02', 'USC00513117'),\n",
       " ('2017-04-03', 'USC00513117'),\n",
       " ('2017-04-04', 'USC00513117'),\n",
       " ('2017-04-05', 'USC00513117'),\n",
       " ('2017-04-06', 'USC00513117'),\n",
       " ('2017-04-07', 'USC00513117'),\n",
       " ('2017-04-08', 'USC00513117'),\n",
       " ('2017-04-09', 'USC00513117'),\n",
       " ('2017-04-10', 'USC00513117'),\n",
       " ('2017-04-11', 'USC00513117'),\n",
       " ('2017-04-12', 'USC00513117'),\n",
       " ('2017-04-13', 'USC00513117'),\n",
       " ('2017-04-14', 'USC00513117'),\n",
       " ('2017-04-15', 'USC00513117'),\n",
       " ('2017-04-16', 'USC00513117'),\n",
       " ('2017-04-17', 'USC00513117'),\n",
       " ('2017-04-18', 'USC00513117'),\n",
       " ('2017-04-19', 'USC00513117'),\n",
       " ('2017-04-20', 'USC00513117'),\n",
       " ('2017-04-21', 'USC00513117'),\n",
       " ('2017-04-22', 'USC00513117'),\n",
       " ('2017-04-23', 'USC00513117'),\n",
       " ('2017-04-24', 'USC00513117'),\n",
       " ('2017-04-25', 'USC00513117'),\n",
       " ('2017-04-26', 'USC00513117'),\n",
       " ('2017-04-27', 'USC00513117'),\n",
       " ('2017-04-28', 'USC00513117'),\n",
       " ('2017-04-29', 'USC00513117'),\n",
       " ('2017-04-30', 'USC00513117'),\n",
       " ('2017-05-01', 'USC00513117'),\n",
       " ('2017-05-02', 'USC00513117'),\n",
       " ('2017-05-03', 'USC00513117'),\n",
       " ('2017-05-04', 'USC00513117'),\n",
       " ('2017-05-05', 'USC00513117'),\n",
       " ('2017-05-06', 'USC00513117'),\n",
       " ('2017-05-07', 'USC00513117'),\n",
       " ('2017-05-08', 'USC00513117'),\n",
       " ('2017-05-09', 'USC00513117'),\n",
       " ('2017-05-10', 'USC00513117'),\n",
       " ('2017-05-11', 'USC00513117'),\n",
       " ('2017-05-12', 'USC00513117'),\n",
       " ('2017-05-13', 'USC00513117'),\n",
       " ('2017-05-14', 'USC00513117'),\n",
       " ('2017-05-15', 'USC00513117'),\n",
       " ('2017-05-16', 'USC00513117'),\n",
       " ('2017-05-17', 'USC00513117'),\n",
       " ('2017-05-18', 'USC00513117'),\n",
       " ('2017-05-19', 'USC00513117'),\n",
       " ('2017-05-20', 'USC00513117'),\n",
       " ('2017-05-21', 'USC00513117'),\n",
       " ('2017-05-22', 'USC00513117'),\n",
       " ('2017-05-23', 'USC00513117'),\n",
       " ('2017-05-24', 'USC00513117'),\n",
       " ('2017-05-25', 'USC00513117'),\n",
       " ('2017-05-26', 'USC00513117'),\n",
       " ('2017-05-27', 'USC00513117'),\n",
       " ('2017-05-28', 'USC00513117'),\n",
       " ('2017-05-29', 'USC00513117'),\n",
       " ('2017-05-30', 'USC00513117'),\n",
       " ('2017-05-31', 'USC00513117'),\n",
       " ('2017-06-01', 'USC00513117'),\n",
       " ('2017-06-02', 'USC00513117'),\n",
       " ('2017-06-03', 'USC00513117'),\n",
       " ('2017-06-04', 'USC00513117'),\n",
       " ('2017-06-05', 'USC00513117'),\n",
       " ('2017-06-06', 'USC00513117'),\n",
       " ('2017-06-07', 'USC00513117'),\n",
       " ('2017-06-08', 'USC00513117'),\n",
       " ('2017-06-09', 'USC00513117'),\n",
       " ('2017-06-10', 'USC00513117'),\n",
       " ('2017-06-11', 'USC00513117'),\n",
       " ('2017-06-12', 'USC00513117'),\n",
       " ('2017-06-13', 'USC00513117'),\n",
       " ('2017-06-14', 'USC00513117'),\n",
       " ('2017-06-15', 'USC00513117'),\n",
       " ('2017-06-16', 'USC00513117'),\n",
       " ('2017-06-17', 'USC00513117'),\n",
       " ('2017-06-18', 'USC00513117'),\n",
       " ('2017-06-19', 'USC00513117'),\n",
       " ('2017-06-20', 'USC00513117'),\n",
       " ('2017-06-21', 'USC00513117'),\n",
       " ('2017-06-22', 'USC00513117'),\n",
       " ('2017-06-23', 'USC00513117'),\n",
       " ('2017-06-24', 'USC00513117'),\n",
       " ('2017-06-25', 'USC00513117'),\n",
       " ('2017-06-26', 'USC00513117'),\n",
       " ('2017-06-27', 'USC00513117'),\n",
       " ('2017-06-28', 'USC00513117'),\n",
       " ('2017-06-29', 'USC00513117'),\n",
       " ('2017-06-30', 'USC00513117'),\n",
       " ('2017-07-01', 'USC00513117'),\n",
       " ('2017-07-02', 'USC00513117'),\n",
       " ('2017-07-03', 'USC00513117'),\n",
       " ('2017-07-04', 'USC00513117'),\n",
       " ('2017-07-05', 'USC00513117'),\n",
       " ('2017-07-06', 'USC00513117'),\n",
       " ('2017-07-07', 'USC00513117'),\n",
       " ('2017-07-08', 'USC00513117'),\n",
       " ('2017-07-09', 'USC00513117'),\n",
       " ('2017-07-10', 'USC00513117'),\n",
       " ('2017-07-11', 'USC00513117'),\n",
       " ('2017-07-12', 'USC00513117'),\n",
       " ('2017-07-13', 'USC00513117'),\n",
       " ('2017-07-14', 'USC00513117'),\n",
       " ('2017-07-15', 'USC00513117'),\n",
       " ('2017-07-16', 'USC00513117'),\n",
       " ('2017-07-17', 'USC00513117'),\n",
       " ('2017-07-18', 'USC00513117'),\n",
       " ('2017-07-19', 'USC00513117'),\n",
       " ('2017-07-20', 'USC00513117'),\n",
       " ('2017-07-21', 'USC00513117'),\n",
       " ('2017-07-22', 'USC00513117'),\n",
       " ('2017-07-23', 'USC00513117'),\n",
       " ('2017-07-24', 'USC00513117'),\n",
       " ('2017-07-25', 'USC00513117'),\n",
       " ('2017-07-26', 'USC00513117'),\n",
       " ('2017-07-27', 'USC00513117'),\n",
       " ('2017-07-28', 'USC00513117'),\n",
       " ('2017-07-29', 'USC00513117'),\n",
       " ('2017-07-30', 'USC00513117'),\n",
       " ('2017-07-31', 'USC00513117'),\n",
       " ('2016-08-23', 'USC00514830'),\n",
       " ('2016-08-24', 'USC00514830'),\n",
       " ('2016-08-25', 'USC00514830'),\n",
       " ('2016-08-26', 'USC00514830'),\n",
       " ('2016-08-27', 'USC00514830'),\n",
       " ('2016-08-28', 'USC00514830'),\n",
       " ('2016-08-29', 'USC00514830'),\n",
       " ('2016-08-31', 'USC00514830'),\n",
       " ('2016-09-01', 'USC00514830'),\n",
       " ('2016-09-02', 'USC00514830'),\n",
       " ('2016-09-05', 'USC00514830'),\n",
       " ('2016-09-06', 'USC00514830'),\n",
       " ('2016-09-07', 'USC00514830'),\n",
       " ('2016-09-08', 'USC00514830'),\n",
       " ('2016-09-09', 'USC00514830'),\n",
       " ('2016-09-12', 'USC00514830'),\n",
       " ('2016-09-13', 'USC00514830'),\n",
       " ('2016-09-14', 'USC00514830'),\n",
       " ('2016-09-15', 'USC00514830'),\n",
       " ('2016-09-16', 'USC00514830'),\n",
       " ('2016-09-19', 'USC00514830'),\n",
       " ('2016-09-20', 'USC00514830'),\n",
       " ('2016-09-21', 'USC00514830'),\n",
       " ('2016-09-22', 'USC00514830'),\n",
       " ('2016-09-23', 'USC00514830'),\n",
       " ('2016-09-24', 'USC00514830'),\n",
       " ('2016-09-25', 'USC00514830'),\n",
       " ('2016-09-26', 'USC00514830'),\n",
       " ('2016-09-27', 'USC00514830'),\n",
       " ('2016-09-28', 'USC00514830'),\n",
       " ('2016-09-29', 'USC00514830'),\n",
       " ('2016-09-30', 'USC00514830'),\n",
       " ('2016-10-01', 'USC00514830'),\n",
       " ('2016-10-02', 'USC00514830'),\n",
       " ('2016-10-03', 'USC00514830'),\n",
       " ('2016-10-04', 'USC00514830'),\n",
       " ('2016-10-05', 'USC00514830'),\n",
       " ('2016-10-06', 'USC00514830'),\n",
       " ('2016-10-07', 'USC00514830'),\n",
       " ('2016-10-10', 'USC00514830'),\n",
       " ('2016-10-11', 'USC00514830'),\n",
       " ('2016-10-12', 'USC00514830'),\n",
       " ('2016-10-13', 'USC00514830'),\n",
       " ('2016-10-14', 'USC00514830'),\n",
       " ('2016-10-15', 'USC00514830'),\n",
       " ('2016-10-17', 'USC00514830'),\n",
       " ('2016-10-18', 'USC00514830'),\n",
       " ('2016-10-19', 'USC00514830'),\n",
       " ('2016-10-20', 'USC00514830'),\n",
       " ('2016-10-21', 'USC00514830'),\n",
       " ('2016-10-23', 'USC00514830'),\n",
       " ('2016-10-24', 'USC00514830'),\n",
       " ('2016-10-25', 'USC00514830'),\n",
       " ('2016-10-27', 'USC00514830'),\n",
       " ('2016-10-28', 'USC00514830'),\n",
       " ('2016-10-29', 'USC00514830'),\n",
       " ('2016-10-30', 'USC00514830'),\n",
       " ('2016-10-31', 'USC00514830'),\n",
       " ('2016-11-01', 'USC00514830'),\n",
       " ('2016-11-02', 'USC00514830'),\n",
       " ('2016-11-03', 'USC00514830'),\n",
       " ('2016-11-04', 'USC00514830'),\n",
       " ('2016-11-05', 'USC00514830'),\n",
       " ('2016-11-06', 'USC00514830'),\n",
       " ('2016-11-07', 'USC00514830'),\n",
       " ('2016-11-08', 'USC00514830'),\n",
       " ('2016-11-09', 'USC00514830'),\n",
       " ('2016-11-10', 'USC00514830'),\n",
       " ('2016-11-11', 'USC00514830'),\n",
       " ('2016-11-12', 'USC00514830'),\n",
       " ('2016-11-13', 'USC00514830'),\n",
       " ('2016-11-14', 'USC00514830'),\n",
       " ('2016-11-15', 'USC00514830'),\n",
       " ('2016-11-16', 'USC00514830'),\n",
       " ('2016-11-17', 'USC00514830'),\n",
       " ('2016-11-22', 'USC00514830'),\n",
       " ('2016-11-25', 'USC00514830'),\n",
       " ('2016-11-26', 'USC00514830'),\n",
       " ('2016-11-27', 'USC00514830'),\n",
       " ('2016-11-28', 'USC00514830'),\n",
       " ('2016-11-29', 'USC00514830'),\n",
       " ('2016-11-30', 'USC00514830'),\n",
       " ('2016-12-01', 'USC00514830'),\n",
       " ('2016-12-02', 'USC00514830'),\n",
       " ('2016-12-03', 'USC00514830'),\n",
       " ('2016-12-04', 'USC00514830'),\n",
       " ('2016-12-05', 'USC00514830'),\n",
       " ('2016-12-07', 'USC00514830'),\n",
       " ('2016-12-08', 'USC00514830'),\n",
       " ('2016-12-09', 'USC00514830'),\n",
       " ('2016-12-10', 'USC00514830'),\n",
       " ('2016-12-12', 'USC00514830'),\n",
       " ('2016-12-13', 'USC00514830'),\n",
       " ('2016-12-14', 'USC00514830'),\n",
       " ('2016-12-15', 'USC00514830'),\n",
       " ('2016-12-16', 'USC00514830'),\n",
       " ('2016-12-17', 'USC00514830'),\n",
       " ('2016-12-18', 'USC00514830'),\n",
       " ('2016-12-19', 'USC00514830'),\n",
       " ('2016-12-20', 'USC00514830'),\n",
       " ('2016-12-21', 'USC00514830'),\n",
       " ('2016-12-22', 'USC00514830'),\n",
       " ('2016-12-23', 'USC00514830'),\n",
       " ('2016-12-24', 'USC00514830'),\n",
       " ('2016-12-26', 'USC00514830'),\n",
       " ('2016-12-27', 'USC00514830'),\n",
       " ('2016-12-28', 'USC00514830'),\n",
       " ('2016-12-29', 'USC00514830'),\n",
       " ('2016-12-30', 'USC00514830'),\n",
       " ('2016-12-31', 'USC00514830'),\n",
       " ('2017-01-01', 'USC00514830'),\n",
       " ('2017-01-02', 'USC00514830'),\n",
       " ('2017-01-03', 'USC00514830'),\n",
       " ('2017-01-04', 'USC00514830'),\n",
       " ('2017-01-05', 'USC00514830'),\n",
       " ('2017-01-06', 'USC00514830'),\n",
       " ('2017-01-07', 'USC00514830'),\n",
       " ('2017-01-08', 'USC00514830'),\n",
       " ('2017-01-09', 'USC00514830'),\n",
       " ('2017-01-10', 'USC00514830'),\n",
       " ('2017-01-11', 'USC00514830'),\n",
       " ('2017-01-13', 'USC00514830'),\n",
       " ('2017-01-14', 'USC00514830'),\n",
       " ('2017-01-16', 'USC00514830'),\n",
       " ('2017-01-17', 'USC00514830'),\n",
       " ('2017-01-18', 'USC00514830'),\n",
       " ('2017-01-19', 'USC00514830'),\n",
       " ('2017-01-20', 'USC00514830'),\n",
       " ('2017-01-21', 'USC00514830'),\n",
       " ('2017-01-23', 'USC00514830'),\n",
       " ('2017-01-25', 'USC00514830'),\n",
       " ('2017-01-26', 'USC00514830'),\n",
       " ('2017-01-27', 'USC00514830'),\n",
       " ('2017-01-28', 'USC00514830'),\n",
       " ('2017-01-30', 'USC00514830'),\n",
       " ('2017-01-31', 'USC00514830'),\n",
       " ('2017-02-01', 'USC00514830'),\n",
       " ('2017-02-02', 'USC00514830'),\n",
       " ('2017-02-03', 'USC00514830'),\n",
       " ('2017-02-05', 'USC00514830'),\n",
       " ('2017-02-06', 'USC00514830'),\n",
       " ('2017-02-07', 'USC00514830'),\n",
       " ('2017-02-08', 'USC00514830'),\n",
       " ('2017-02-09', 'USC00514830'),\n",
       " ('2017-02-10', 'USC00514830'),\n",
       " ('2017-02-11', 'USC00514830'),\n",
       " ('2017-02-12', 'USC00514830'),\n",
       " ('2017-02-13', 'USC00514830'),\n",
       " ('2017-02-14', 'USC00514830'),\n",
       " ('2017-02-15', 'USC00514830'),\n",
       " ('2017-02-16', 'USC00514830'),\n",
       " ('2017-02-17', 'USC00514830'),\n",
       " ('2017-02-20', 'USC00514830'),\n",
       " ('2017-02-21', 'USC00514830'),\n",
       " ('2017-02-22', 'USC00514830'),\n",
       " ('2017-02-23', 'USC00514830'),\n",
       " ('2017-02-24', 'USC00514830'),\n",
       " ('2017-02-26', 'USC00514830'),\n",
       " ('2017-02-27', 'USC00514830'),\n",
       " ('2017-02-28', 'USC00514830'),\n",
       " ('2017-03-01', 'USC00514830'),\n",
       " ('2017-03-03', 'USC00514830'),\n",
       " ('2017-03-06', 'USC00514830'),\n",
       " ('2017-03-07', 'USC00514830'),\n",
       " ('2017-03-08', 'USC00514830'),\n",
       " ('2017-03-09', 'USC00514830'),\n",
       " ('2017-03-10', 'USC00514830'),\n",
       " ('2017-03-12', 'USC00514830'),\n",
       " ('2017-03-13', 'USC00514830'),\n",
       " ('2017-03-14', 'USC00514830'),\n",
       " ('2017-03-16', 'USC00514830'),\n",
       " ('2017-03-17', 'USC00514830'),\n",
       " ('2017-03-18', 'USC00514830'),\n",
       " ('2017-03-20', 'USC00514830'),\n",
       " ('2017-03-21', 'USC00514830'),\n",
       " ('2017-03-22', 'USC00514830'),\n",
       " ('2017-03-23', 'USC00514830'),\n",
       " ('2017-03-24', 'USC00514830'),\n",
       " ('2017-03-27', 'USC00514830'),\n",
       " ('2017-03-28', 'USC00514830'),\n",
       " ('2017-03-29', 'USC00514830'),\n",
       " ('2017-03-30', 'USC00514830'),\n",
       " ('2017-03-31', 'USC00514830'),\n",
       " ('2017-04-01', 'USC00514830'),\n",
       " ('2017-04-02', 'USC00514830'),\n",
       " ('2017-04-03', 'USC00514830'),\n",
       " ('2017-04-04', 'USC00514830'),\n",
       " ('2017-04-05', 'USC00514830'),\n",
       " ('2017-04-06', 'USC00514830'),\n",
       " ('2017-04-07', 'USC00514830'),\n",
       " ('2017-04-09', 'USC00514830'),\n",
       " ('2017-04-10', 'USC00514830'),\n",
       " ('2017-04-11', 'USC00514830'),\n",
       " ('2017-04-12', 'USC00514830'),\n",
       " ('2017-04-13', 'USC00514830'),\n",
       " ('2017-04-14', 'USC00514830'),\n",
       " ('2017-04-17', 'USC00514830'),\n",
       " ('2017-04-18', 'USC00514830'),\n",
       " ('2017-04-19', 'USC00514830'),\n",
       " ('2017-04-20', 'USC00514830'),\n",
       " ('2017-04-21', 'USC00514830'),\n",
       " ('2017-04-22', 'USC00514830'),\n",
       " ('2017-04-24', 'USC00514830'),\n",
       " ('2017-04-25', 'USC00514830'),\n",
       " ('2017-04-26', 'USC00514830'),\n",
       " ('2017-04-27', 'USC00514830'),\n",
       " ('2017-04-28', 'USC00514830'),\n",
       " ('2017-04-29', 'USC00514830'),\n",
       " ('2017-04-30', 'USC00514830'),\n",
       " ('2017-05-01', 'USC00514830'),\n",
       " ('2017-05-02', 'USC00514830'),\n",
       " ('2017-05-03', 'USC00514830'),\n",
       " ('2017-05-04', 'USC00514830'),\n",
       " ('2017-05-05', 'USC00514830'),\n",
       " ('2017-05-06', 'USC00514830'),\n",
       " ('2017-05-08', 'USC00514830'),\n",
       " ('2017-05-09', 'USC00514830'),\n",
       " ('2017-05-10', 'USC00514830'),\n",
       " ('2017-05-12', 'USC00514830'),\n",
       " ('2017-05-15', 'USC00514830'),\n",
       " ('2017-05-16', 'USC00514830'),\n",
       " ('2017-05-17', 'USC00514830'),\n",
       " ('2017-05-18', 'USC00514830'),\n",
       " ('2017-05-19', 'USC00514830'),\n",
       " ('2017-05-20', 'USC00514830'),\n",
       " ('2017-05-22', 'USC00514830'),\n",
       " ('2017-05-23', 'USC00514830'),\n",
       " ('2017-05-24', 'USC00514830'),\n",
       " ('2017-05-25', 'USC00514830'),\n",
       " ('2017-05-26', 'USC00514830'),\n",
       " ('2017-05-27', 'USC00514830'),\n",
       " ('2017-05-28', 'USC00514830'),\n",
       " ('2017-05-29', 'USC00514830'),\n",
       " ('2017-05-30', 'USC00514830'),\n",
       " ('2017-05-31', 'USC00514830'),\n",
       " ('2017-06-01', 'USC00514830'),\n",
       " ('2017-06-02', 'USC00514830'),\n",
       " ('2017-06-03', 'USC00514830'),\n",
       " ('2017-06-04', 'USC00514830'),\n",
       " ('2017-06-05', 'USC00514830'),\n",
       " ('2017-06-06', 'USC00514830'),\n",
       " ('2017-06-07', 'USC00514830'),\n",
       " ('2017-06-08', 'USC00514830'),\n",
       " ('2017-06-09', 'USC00514830'),\n",
       " ('2017-06-10', 'USC00514830'),\n",
       " ('2017-06-11', 'USC00514830'),\n",
       " ('2017-06-12', 'USC00514830'),\n",
       " ('2017-06-13', 'USC00514830'),\n",
       " ('2017-06-14', 'USC00514830'),\n",
       " ('2017-06-15', 'USC00514830'),\n",
       " ('2017-06-16', 'USC00514830'),\n",
       " ('2017-06-17', 'USC00514830'),\n",
       " ('2017-06-18', 'USC00514830'),\n",
       " ('2017-06-19', 'USC00514830'),\n",
       " ('2017-06-20', 'USC00514830'),\n",
       " ('2017-06-23', 'USC00514830'),\n",
       " ('2017-06-26', 'USC00514830'),\n",
       " ('2017-06-29', 'USC00514830'),\n",
       " ('2017-06-30', 'USC00514830'),\n",
       " ('2017-07-03', 'USC00514830'),\n",
       " ('2017-07-05', 'USC00514830'),\n",
       " ('2017-07-07', 'USC00514830'),\n",
       " ('2017-07-08', 'USC00514830'),\n",
       " ('2017-07-09', 'USC00514830'),\n",
       " ('2017-07-10', 'USC00514830'),\n",
       " ('2017-07-11', 'USC00514830'),\n",
       " ('2017-07-12', 'USC00514830'),\n",
       " ('2017-07-13', 'USC00514830'),\n",
       " ('2017-07-14', 'USC00514830'),\n",
       " ('2017-07-15', 'USC00514830'),\n",
       " ('2017-07-16', 'USC00514830'),\n",
       " ('2017-07-17', 'USC00514830'),\n",
       " ('2017-07-18', 'USC00514830'),\n",
       " ('2017-07-19', 'USC00514830'),\n",
       " ('2017-07-20', 'USC00514830'),\n",
       " ('2017-07-21', 'USC00514830'),\n",
       " ('2017-07-22', 'USC00514830'),\n",
       " ('2017-07-23', 'USC00514830'),\n",
       " ('2017-07-24', 'USC00514830'),\n",
       " ('2017-07-25', 'USC00514830'),\n",
       " ('2017-07-26', 'USC00514830'),\n",
       " ('2017-07-27', 'USC00514830'),\n",
       " ('2017-07-28', 'USC00514830'),\n",
       " ('2017-07-29', 'USC00514830'),\n",
       " ('2017-07-31', 'USC00514830'),\n",
       " ('2017-08-01', 'USC00514830'),\n",
       " ('2017-08-02', 'USC00514830'),\n",
       " ('2017-08-03', 'USC00514830'),\n",
       " ('2017-08-04', 'USC00514830'),\n",
       " ('2017-08-06', 'USC00514830'),\n",
       " ('2017-08-07', 'USC00514830'),\n",
       " ('2017-08-08', 'USC00514830'),\n",
       " ('2017-08-09', 'USC00514830'),\n",
       " ('2017-08-10', 'USC00514830'),\n",
       " ('2017-08-11', 'USC00514830'),\n",
       " ('2017-08-13', 'USC00514830'),\n",
       " ('2017-08-14', 'USC00514830'),\n",
       " ('2017-08-15', 'USC00514830'),\n",
       " ('2017-08-16', 'USC00514830'),\n",
       " ('2017-08-17', 'USC00514830'),\n",
       " ('2017-08-18', 'USC00514830'),\n",
       " ('2017-08-19', 'USC00514830'),\n",
       " ('2017-08-20', 'USC00514830'),\n",
       " ('2017-08-21', 'USC00514830'),\n",
       " ('2017-08-23', 'USC00514830'),\n",
       " ('2016-08-23', 'USC00516128'),\n",
       " ('2016-08-24', 'USC00516128'),\n",
       " ('2016-08-25', 'USC00516128'),\n",
       " ('2016-08-27', 'USC00516128'),\n",
       " ('2016-08-28', 'USC00516128'),\n",
       " ('2016-08-29', 'USC00516128'),\n",
       " ('2016-08-30', 'USC00516128'),\n",
       " ('2016-08-31', 'USC00516128'),\n",
       " ('2016-09-01', 'USC00516128'),\n",
       " ('2016-09-02', 'USC00516128'),\n",
       " ('2016-09-03', 'USC00516128'),\n",
       " ('2016-09-04', 'USC00516128'),\n",
       " ('2016-09-05', 'USC00516128'),\n",
       " ('2016-09-06', 'USC00516128'),\n",
       " ('2016-09-07', 'USC00516128'),\n",
       " ('2016-09-08', 'USC00516128'),\n",
       " ('2016-09-09', 'USC00516128'),\n",
       " ('2016-09-10', 'USC00516128'),\n",
       " ('2016-09-11', 'USC00516128'),\n",
       " ('2016-09-12', 'USC00516128'),\n",
       " ('2016-09-13', 'USC00516128'),\n",
       " ('2016-09-14', 'USC00516128'),\n",
       " ('2016-09-15', 'USC00516128'),\n",
       " ('2016-09-16', 'USC00516128'),\n",
       " ('2016-09-17', 'USC00516128'),\n",
       " ('2016-09-18', 'USC00516128'),\n",
       " ('2016-09-19', 'USC00516128'),\n",
       " ('2016-09-20', 'USC00516128'),\n",
       " ('2016-09-21', 'USC00516128'),\n",
       " ('2016-09-22', 'USC00516128'),\n",
       " ('2016-09-23', 'USC00516128'),\n",
       " ('2016-09-24', 'USC00516128'),\n",
       " ('2016-09-25', 'USC00516128'),\n",
       " ('2016-09-26', 'USC00516128'),\n",
       " ('2016-09-27', 'USC00516128'),\n",
       " ('2016-09-28', 'USC00516128'),\n",
       " ('2016-09-29', 'USC00516128'),\n",
       " ('2016-09-30', 'USC00516128'),\n",
       " ('2016-10-01', 'USC00516128'),\n",
       " ('2016-10-02', 'USC00516128'),\n",
       " ('2016-10-03', 'USC00516128'),\n",
       " ('2016-10-04', 'USC00516128'),\n",
       " ('2016-10-05', 'USC00516128'),\n",
       " ('2016-10-06', 'USC00516128'),\n",
       " ('2016-10-07', 'USC00516128'),\n",
       " ('2016-10-08', 'USC00516128'),\n",
       " ('2016-10-09', 'USC00516128'),\n",
       " ('2016-10-10', 'USC00516128'),\n",
       " ('2016-10-11', 'USC00516128'),\n",
       " ('2016-10-12', 'USC00516128'),\n",
       " ('2016-10-13', 'USC00516128'),\n",
       " ('2016-10-14', 'USC00516128'),\n",
       " ('2016-10-15', 'USC00516128'),\n",
       " ('2016-10-16', 'USC00516128'),\n",
       " ('2016-10-17', 'USC00516128'),\n",
       " ('2016-10-18', 'USC00516128'),\n",
       " ('2016-10-19', 'USC00516128'),\n",
       " ('2016-10-20', 'USC00516128'),\n",
       " ('2016-10-21', 'USC00516128'),\n",
       " ('2016-10-22', 'USC00516128'),\n",
       " ('2016-10-23', 'USC00516128'),\n",
       " ('2016-10-24', 'USC00516128'),\n",
       " ('2016-10-25', 'USC00516128'),\n",
       " ('2016-10-26', 'USC00516128'),\n",
       " ('2016-10-27', 'USC00516128'),\n",
       " ('2016-10-28', 'USC00516128'),\n",
       " ('2016-10-29', 'USC00516128'),\n",
       " ('2016-10-30', 'USC00516128'),\n",
       " ('2016-10-31', 'USC00516128'),\n",
       " ('2016-11-01', 'USC00516128'),\n",
       " ('2016-11-02', 'USC00516128'),\n",
       " ('2016-11-03', 'USC00516128'),\n",
       " ('2016-11-04', 'USC00516128'),\n",
       " ('2016-11-05', 'USC00516128'),\n",
       " ('2016-11-06', 'USC00516128'),\n",
       " ('2016-11-07', 'USC00516128'),\n",
       " ('2016-11-08', 'USC00516128'),\n",
       " ('2016-11-09', 'USC00516128'),\n",
       " ('2016-11-10', 'USC00516128'),\n",
       " ('2016-11-11', 'USC00516128'),\n",
       " ('2016-11-12', 'USC00516128'),\n",
       " ('2016-11-13', 'USC00516128'),\n",
       " ('2016-11-14', 'USC00516128'),\n",
       " ('2016-11-15', 'USC00516128'),\n",
       " ('2016-11-16', 'USC00516128'),\n",
       " ('2016-11-17', 'USC00516128'),\n",
       " ('2016-11-20', 'USC00516128'),\n",
       " ('2016-11-21', 'USC00516128'),\n",
       " ('2016-11-22', 'USC00516128'),\n",
       " ('2016-11-23', 'USC00516128'),\n",
       " ('2016-11-24', 'USC00516128'),\n",
       " ('2016-11-25', 'USC00516128'),\n",
       " ('2016-11-26', 'USC00516128'),\n",
       " ('2016-11-27', 'USC00516128'),\n",
       " ('2016-11-28', 'USC00516128'),\n",
       " ('2016-11-29', 'USC00516128'),\n",
       " ('2016-11-30', 'USC00516128'),\n",
       " ('2016-12-01', 'USC00516128'),\n",
       " ('2016-12-02', 'USC00516128'),\n",
       " ('2016-12-03', 'USC00516128'),\n",
       " ('2016-12-04', 'USC00516128'),\n",
       " ('2016-12-05', 'USC00516128'),\n",
       " ('2016-12-06', 'USC00516128'),\n",
       " ('2016-12-07', 'USC00516128'),\n",
       " ('2016-12-08', 'USC00516128'),\n",
       " ('2016-12-09', 'USC00516128'),\n",
       " ('2016-12-10', 'USC00516128'),\n",
       " ('2016-12-11', 'USC00516128'),\n",
       " ('2016-12-12', 'USC00516128'),\n",
       " ('2016-12-13', 'USC00516128'),\n",
       " ('2016-12-14', 'USC00516128'),\n",
       " ('2016-12-15', 'USC00516128'),\n",
       " ('2016-12-16', 'USC00516128'),\n",
       " ('2016-12-18', 'USC00516128'),\n",
       " ('2016-12-19', 'USC00516128'),\n",
       " ('2016-12-20', 'USC00516128'),\n",
       " ('2016-12-21', 'USC00516128'),\n",
       " ('2016-12-22', 'USC00516128'),\n",
       " ('2016-12-23', 'USC00516128'),\n",
       " ('2016-12-24', 'USC00516128'),\n",
       " ('2016-12-25', 'USC00516128'),\n",
       " ('2016-12-26', 'USC00516128'),\n",
       " ('2016-12-27', 'USC00516128'),\n",
       " ('2016-12-28', 'USC00516128'),\n",
       " ('2016-12-29', 'USC00516128'),\n",
       " ('2016-12-30', 'USC00516128'),\n",
       " ('2016-12-31', 'USC00516128'),\n",
       " ('2017-01-01', 'USC00516128'),\n",
       " ('2017-01-02', 'USC00516128'),\n",
       " ('2017-01-03', 'USC00516128'),\n",
       " ('2017-01-04', 'USC00516128'),\n",
       " ('2017-01-05', 'USC00516128'),\n",
       " ('2017-01-06', 'USC00516128'),\n",
       " ('2017-01-07', 'USC00516128'),\n",
       " ('2017-01-08', 'USC00516128'),\n",
       " ('2017-01-09', 'USC00516128'),\n",
       " ('2017-01-10', 'USC00516128'),\n",
       " ('2017-01-11', 'USC00516128'),\n",
       " ('2017-01-12', 'USC00516128'),\n",
       " ('2017-01-13', 'USC00516128'),\n",
       " ('2017-01-14', 'USC00516128'),\n",
       " ('2017-01-15', 'USC00516128'),\n",
       " ('2017-01-16', 'USC00516128'),\n",
       " ('2017-01-17', 'USC00516128'),\n",
       " ('2017-01-18', 'USC00516128'),\n",
       " ('2017-01-19', 'USC00516128'),\n",
       " ('2017-01-20', 'USC00516128'),\n",
       " ('2017-01-21', 'USC00516128'),\n",
       " ('2017-01-22', 'USC00516128'),\n",
       " ('2017-01-23', 'USC00516128'),\n",
       " ('2017-01-24', 'USC00516128'),\n",
       " ('2017-01-25', 'USC00516128'),\n",
       " ('2017-01-26', 'USC00516128'),\n",
       " ('2017-01-27', 'USC00516128'),\n",
       " ('2017-01-28', 'USC00516128'),\n",
       " ('2017-01-29', 'USC00516128'),\n",
       " ('2017-01-30', 'USC00516128'),\n",
       " ('2017-01-31', 'USC00516128'),\n",
       " ('2017-02-01', 'USC00516128'),\n",
       " ('2017-02-02', 'USC00516128'),\n",
       " ('2017-02-04', 'USC00516128'),\n",
       " ('2017-02-05', 'USC00516128'),\n",
       " ('2017-02-06', 'USC00516128'),\n",
       " ('2017-02-07', 'USC00516128'),\n",
       " ('2017-02-08', 'USC00516128'),\n",
       " ('2017-02-09', 'USC00516128'),\n",
       " ('2017-02-10', 'USC00516128'),\n",
       " ('2017-02-11', 'USC00516128'),\n",
       " ('2017-02-12', 'USC00516128'),\n",
       " ('2017-02-13', 'USC00516128'),\n",
       " ('2017-02-14', 'USC00516128'),\n",
       " ('2017-02-15', 'USC00516128'),\n",
       " ('2017-02-16', 'USC00516128'),\n",
       " ('2017-02-18', 'USC00516128'),\n",
       " ('2017-02-19', 'USC00516128'),\n",
       " ('2017-02-20', 'USC00516128'),\n",
       " ('2017-02-21', 'USC00516128'),\n",
       " ('2017-02-22', 'USC00516128'),\n",
       " ('2017-02-23', 'USC00516128'),\n",
       " ('2017-02-24', 'USC00516128'),\n",
       " ('2017-02-25', 'USC00516128'),\n",
       " ('2017-02-26', 'USC00516128'),\n",
       " ('2017-02-27', 'USC00516128'),\n",
       " ('2017-02-28', 'USC00516128'),\n",
       " ('2017-03-01', 'USC00516128'),\n",
       " ('2017-03-02', 'USC00516128'),\n",
       " ('2017-03-03', 'USC00516128'),\n",
       " ('2017-03-04', 'USC00516128'),\n",
       " ('2017-03-05', 'USC00516128'),\n",
       " ('2017-03-06', 'USC00516128'),\n",
       " ('2017-03-07', 'USC00516128'),\n",
       " ('2017-03-08', 'USC00516128'),\n",
       " ('2017-03-09', 'USC00516128'),\n",
       " ('2017-03-10', 'USC00516128'),\n",
       " ('2017-03-11', 'USC00516128'),\n",
       " ('2017-03-13', 'USC00516128'),\n",
       " ('2017-03-14', 'USC00516128'),\n",
       " ('2017-03-15', 'USC00516128'),\n",
       " ('2017-03-16', 'USC00516128'),\n",
       " ('2017-03-18', 'USC00516128'),\n",
       " ('2017-03-19', 'USC00516128'),\n",
       " ('2017-03-20', 'USC00516128'),\n",
       " ('2017-03-21', 'USC00516128'),\n",
       " ('2017-03-22', 'USC00516128'),\n",
       " ('2017-03-23', 'USC00516128'),\n",
       " ('2017-03-24', 'USC00516128'),\n",
       " ('2017-03-25', 'USC00516128'),\n",
       " ('2017-03-26', 'USC00516128'),\n",
       " ('2017-03-27', 'USC00516128'),\n",
       " ('2017-03-28', 'USC00516128'),\n",
       " ('2017-03-29', 'USC00516128'),\n",
       " ('2017-03-31', 'USC00516128'),\n",
       " ('2017-04-01', 'USC00516128'),\n",
       " ('2017-04-02', 'USC00516128'),\n",
       " ('2017-04-03', 'USC00516128'),\n",
       " ('2017-04-04', 'USC00516128'),\n",
       " ('2017-04-05', 'USC00516128'),\n",
       " ('2017-04-06', 'USC00516128'),\n",
       " ('2017-04-08', 'USC00516128'),\n",
       " ('2017-04-09', 'USC00516128'),\n",
       " ('2017-04-10', 'USC00516128'),\n",
       " ('2017-04-11', 'USC00516128'),\n",
       " ('2017-04-12', 'USC00516128'),\n",
       " ('2017-04-13', 'USC00516128'),\n",
       " ('2017-04-14', 'USC00516128'),\n",
       " ('2017-04-15', 'USC00516128'),\n",
       " ('2017-04-16', 'USC00516128'),\n",
       " ('2017-04-17', 'USC00516128'),\n",
       " ('2017-04-18', 'USC00516128'),\n",
       " ('2017-04-19', 'USC00516128'),\n",
       " ('2017-04-20', 'USC00516128'),\n",
       " ('2017-04-21', 'USC00516128'),\n",
       " ('2017-04-22', 'USC00516128'),\n",
       " ('2017-04-23', 'USC00516128'),\n",
       " ('2017-04-24', 'USC00516128'),\n",
       " ('2017-04-25', 'USC00516128'),\n",
       " ('2017-04-26', 'USC00516128'),\n",
       " ('2017-04-27', 'USC00516128'),\n",
       " ('2017-04-28', 'USC00516128'),\n",
       " ('2017-04-29', 'USC00516128'),\n",
       " ('2017-04-30', 'USC00516128'),\n",
       " ('2017-05-01', 'USC00516128'),\n",
       " ('2017-05-02', 'USC00516128'),\n",
       " ('2017-05-04', 'USC00516128'),\n",
       " ('2017-05-05', 'USC00516128'),\n",
       " ('2017-05-06', 'USC00516128'),\n",
       " ('2017-05-07', 'USC00516128'),\n",
       " ('2017-05-08', 'USC00516128'),\n",
       " ('2017-05-09', 'USC00516128'),\n",
       " ('2017-05-10', 'USC00516128'),\n",
       " ('2017-05-11', 'USC00516128'),\n",
       " ('2017-05-12', 'USC00516128'),\n",
       " ('2017-05-13', 'USC00516128'),\n",
       " ('2017-05-14', 'USC00516128'),\n",
       " ('2017-05-15', 'USC00516128'),\n",
       " ('2017-05-16', 'USC00516128'),\n",
       " ('2017-05-17', 'USC00516128'),\n",
       " ('2017-05-18', 'USC00516128'),\n",
       " ('2017-05-20', 'USC00516128'),\n",
       " ('2017-05-21', 'USC00516128'),\n",
       " ('2017-05-22', 'USC00516128'),\n",
       " ('2017-05-23', 'USC00516128'),\n",
       " ('2017-05-24', 'USC00516128'),\n",
       " ('2017-05-25', 'USC00516128'),\n",
       " ('2017-05-26', 'USC00516128'),\n",
       " ('2017-05-27', 'USC00516128'),\n",
       " ('2017-05-28', 'USC00516128'),\n",
       " ('2017-05-30', 'USC00516128'),\n",
       " ('2017-06-01', 'USC00516128'),\n",
       " ('2017-06-03', 'USC00516128'),\n",
       " ('2017-06-04', 'USC00516128'),\n",
       " ('2017-06-05', 'USC00516128'),\n",
       " ('2017-06-06', 'USC00516128'),\n",
       " ('2017-06-07', 'USC00516128'),\n",
       " ('2017-06-08', 'USC00516128'),\n",
       " ('2017-06-10', 'USC00516128'),\n",
       " ('2017-06-11', 'USC00516128'),\n",
       " ('2017-06-12', 'USC00516128'),\n",
       " ('2017-06-13', 'USC00516128'),\n",
       " ('2017-06-14', 'USC00516128'),\n",
       " ('2017-06-15', 'USC00516128'),\n",
       " ('2017-06-16', 'USC00516128'),\n",
       " ('2017-06-17', 'USC00516128'),\n",
       " ('2017-06-18', 'USC00516128'),\n",
       " ('2017-06-19', 'USC00516128'),\n",
       " ('2017-06-20', 'USC00516128'),\n",
       " ('2017-06-21', 'USC00516128'),\n",
       " ('2017-06-22', 'USC00516128'),\n",
       " ('2017-06-23', 'USC00516128'),\n",
       " ('2017-06-24', 'USC00516128'),\n",
       " ('2017-06-25', 'USC00516128'),\n",
       " ('2017-06-26', 'USC00516128'),\n",
       " ('2017-06-27', 'USC00516128'),\n",
       " ('2017-06-28', 'USC00516128'),\n",
       " ('2017-06-29', 'USC00516128'),\n",
       " ('2017-06-30', 'USC00516128'),\n",
       " ('2017-07-01', 'USC00516128'),\n",
       " ('2017-07-02', 'USC00516128'),\n",
       " ('2017-07-03', 'USC00516128'),\n",
       " ('2017-07-04', 'USC00516128'),\n",
       " ('2017-07-05', 'USC00516128'),\n",
       " ('2017-07-06', 'USC00516128'),\n",
       " ('2017-07-07', 'USC00516128'),\n",
       " ('2017-07-08', 'USC00516128'),\n",
       " ('2017-07-09', 'USC00516128'),\n",
       " ('2017-07-10', 'USC00516128'),\n",
       " ('2017-07-11', 'USC00516128'),\n",
       " ('2017-07-12', 'USC00516128'),\n",
       " ('2017-07-13', 'USC00516128'),\n",
       " ('2017-07-14', 'USC00516128'),\n",
       " ('2017-07-15', 'USC00516128'),\n",
       " ('2017-07-16', 'USC00516128'),\n",
       " ('2017-07-17', 'USC00516128'),\n",
       " ('2017-07-18', 'USC00516128'),\n",
       " ('2017-07-19', 'USC00516128'),\n",
       " ('2017-07-20', 'USC00516128'),\n",
       " ('2017-07-21', 'USC00516128'),\n",
       " ('2017-07-22', 'USC00516128'),\n",
       " ('2017-07-23', 'USC00516128'),\n",
       " ('2017-07-24', 'USC00516128'),\n",
       " ('2017-07-25', 'USC00516128'),\n",
       " ('2017-07-26', 'USC00516128'),\n",
       " ('2017-07-27', 'USC00516128'),\n",
       " ('2017-07-28', 'USC00516128'),\n",
       " ('2017-07-29', 'USC00516128'),\n",
       " ('2017-07-30', 'USC00516128'),\n",
       " ('2017-07-31', 'USC00516128'),\n",
       " ('2017-08-01', 'USC00516128'),\n",
       " ('2017-08-02', 'USC00516128'),\n",
       " ('2017-08-03', 'USC00516128'),\n",
       " ('2017-08-05', 'USC00516128'),\n",
       " ('2017-08-06', 'USC00516128'),\n",
       " ('2017-08-07', 'USC00516128'),\n",
       " ('2017-08-08', 'USC00516128'),\n",
       " ('2017-08-09', 'USC00516128'),\n",
       " ('2017-08-10', 'USC00516128'),\n",
       " ('2017-08-11', 'USC00516128'),\n",
       " ('2017-08-12', 'USC00516128'),\n",
       " ('2017-08-13', 'USC00516128'),\n",
       " ('2017-08-14', 'USC00516128'),\n",
       " ('2017-08-15', 'USC00516128'),\n",
       " ('2017-08-16', 'USC00516128'),\n",
       " ('2017-08-17', 'USC00516128'),\n",
       " ('2017-08-18', 'USC00516128'),\n",
       " ('2017-08-19', 'USC00516128'),\n",
       " ('2017-08-20', 'USC00516128'),\n",
       " ('2017-08-21', 'USC00516128'),\n",
       " ('2017-08-22', 'USC00516128'),\n",
       " ('2017-08-23', 'USC00516128'),\n",
       " ('2016-08-23', 'USC00517948'),\n",
       " ('2016-08-24', 'USC00517948'),\n",
       " ('2016-08-25', 'USC00517948'),\n",
       " ...]"
      ]
     },
     "execution_count": 156,
     "metadata": {},
     "output_type": "execute_result"
    }
   ],
   "source": [
    "session.query(measurement.date, measurement.station).\\\n",
    "    filter(measurement.date >= '2016-08-23').\\\n",
    "    order_by(measurement.station).all() "
   ]
  },
  {
   "cell_type": "code",
   "execution_count": 157,
   "metadata": {},
   "outputs": [
    {
     "name": "stdout",
     "output_type": "stream",
     "text": [
      "Station with the highest number of observations: USC00519281\n"
     ]
    }
   ],
   "source": [
    "# Which station had the highest number of observations?\n",
    "q =session.query(func.count(measurement.station).label(\"sta_ct\"),measurement.station).\\\n",
    "    group_by(measurement.station).\\\n",
    "    order_by(func.count(measurement.station).desc()).all()\n",
    "hg_stat = ((q)[0][1])\n",
    "print(\"Station with the highest number of observations:\", hg_stat)\n"
   ]
  },
  {
   "cell_type": "code",
   "execution_count": 158,
   "metadata": {},
   "outputs": [],
   "source": [
    "# Choose the station with the highest number of temperature observations.\n",
    "# Query the last 12 months of temperature observation data for this station and plot the results as a histogram\n",
    "temp2 =session.query(measurement.tobs).\\\n",
    "    filter(measurement.date >= '2016-08-23').\\\n",
    "    filter(measurement.station == hg_stat).\\\n",
    "    order_by(measurement.date).all() "
   ]
  },
  {
   "cell_type": "code",
   "execution_count": 159,
   "metadata": {},
   "outputs": [],
   "source": [
    "tp = [temp[0] for temp in temp2[::-1]]"
   ]
  },
  {
   "cell_type": "code",
   "execution_count": 160,
   "metadata": {},
   "outputs": [
    {
     "data": {
      "text/plain": [
       "[(54.0, 85.0, 71.66378066378067)]"
      ]
     },
     "execution_count": 160,
     "metadata": {},
     "output_type": "execute_result"
    }
   ],
   "source": [
    "# Using the station id from the previous query, calculate the lowest temperature recorded, \n",
    "# highest temperature recorded, and average temperature most active station?\n",
    "session.query(func.min(measurement.tobs),func.max(measurement.tobs),func.avg(measurement.tobs)).filter(measurement.station == 'USC00519281').all()\n"
   ]
  },
  {
   "cell_type": "code",
   "execution_count": 161,
   "metadata": {},
   "outputs": [],
   "source": [
    "#join measurement and station queries\n",
    "join_tbl = session.query(measurement, station).filter(measurement.id == station.id).all()\n",
    "for record in join_tbl:\n",
    "    (measurement, station) = record\n",
    "    \n",
    "#     print(measurement.station)\n",
    "#     print(station.name)"
   ]
  },
  {
   "cell_type": "code",
   "execution_count": 167,
   "metadata": {},
   "outputs": [
    {
     "data": {
      "text/plain": [
       "Text(0, 0.5, 'Frequency')"
      ]
     },
     "execution_count": 167,
     "metadata": {},
     "output_type": "execute_result"
    },
    {
     "data": {
      "image/png": "[encoded data removed]",
      "text/plain": [
       "<Figure size 432x288 with 1 Axes>"
      ]
     },
     "metadata": {},
     "output_type": "display_data"
    }
   ],
   "source": [
    "#ticks = np.arange(len(temps))\n",
    "plt.hist(tp, bins = 12, label=\"tobs\")\n",
    "plt.legend()\n",
    "plt.ylabel(\"Frequency\")"
   ]
  },
  {
   "cell_type": "markdown",
   "metadata": {},
   "source": [
    "![precipitation](Images/station-histogram.png)"
   ]
  },
  {
   "cell_type": "code",
   "execution_count": 168,
   "metadata": {},
   "outputs": [
    {
     "name": "stdout",
     "output_type": "stream",
     "text": [
      "[(62.0, 69.57142857142857, 74.0)]\n"
     ]
    }
   ],
   "source": [
    "#HW EXAMPLE This function called `calc_temps` will accept start date and end date in the format '%Y-%m-%d' \n",
    "# and return the minimum, average, and maximum temperatures for that range of dates\n",
    "def calc_temps(start_date, end_date):\n",
    "    \"\"\"TMIN, TAVG, and TMAX for a list of dates.\n",
    "    \n",
    "    Args:\n",
    "        start_date (string): A date string in the format %Y-%m-%d\n",
    "        end_date (string): A date string in the format %Y-%m-%d\n",
    "        \n",
    "    Returns:\n",
    "        TMIN, TAVE, and TMAX\n",
    "    \"\"\"\n",
    "#last_date  #one_yrprior_date\n",
    "    return session.query(func.min(Measurement.tobs), func.avg(Measurement.tobs), func.max(Measurement.tobs)).\\\n",
    "        filter(Measurement.date >= start_date).filter(Measurement.date <= end_date).all()\n",
    "\n",
    "# function usage example\n",
    "print(calc_temps('2012-02-28', '2012-03-05'))"
   ]
  },
  {
   "cell_type": "code",
   "execution_count": 169,
   "metadata": {},
   "outputs": [
    {
     "name": "stdout",
     "output_type": "stream",
     "text": [
      "[(58.0, 74.59058295964125, 87.0)]\n"
     ]
    }
   ],
   "source": [
    "# Use your previous function `calc_temps` to calculate the tmin, tavg, and tmax \n",
    "# for your trip using the previous year's data for those same dates.\n",
    "def calc_temps(one_yrprior_date, last_date):\n",
    "    return session.query(func.min(Measurement.tobs), func.avg(Measurement.tobs), func.max(Measurement.tobs)).\\\n",
    "        filter(Measurement.date >= one_yrprior_date).filter(Measurement.date <= last_date).all()      \n",
    "print(calc_temps(one_yrprior_date,last_date))"
   ]
  },
  {
   "cell_type": "code",
   "execution_count": 170,
   "metadata": {},
   "outputs": [
    {
     "name": "stdout",
     "output_type": "stream",
     "text": [
      "Min:  58.0\n",
      "Avg:  74.59058295964125\n",
      "Max:  87.0\n"
     ]
    }
   ],
   "source": [
    "# prior query, unwrap and label the values\n",
    "min = ((calc_temps(one_yrprior_date,last_date))[0][0])\n",
    "avg = ((calc_temps(one_yrprior_date,last_date))[0][1])\n",
    "max = ((calc_temps(one_yrprior_date,last_date))[0][2])                                                \n",
    "print(\"Min: \", min)\n",
    "print(\"Avg: \", avg)\n",
    "print(\"Max: \", max)"
   ]
  },
  {
   "cell_type": "code",
   "execution_count": 43,
   "metadata": {},
   "outputs": [
    {
     "name": "stdout",
     "output_type": "stream",
     "text": [
      "2016-08-23\n"
     ]
    }
   ],
   "source": [
    "print(one_yrprior_date)"
   ]
  },
  {
   "cell_type": "code",
   "execution_count": 173,
   "metadata": {},
   "outputs": [],
   "source": [
    "def calc_temps(one_yrprior_date, last_date):\n",
    "    return session.query(Measurement.date, Measurement.tobs).\\\n",
    "        filter(Measurement.date >= one_yrprior_date).filter(Measurement.date <= last_date).all()"
   ]
  },
  {
   "cell_type": "code",
   "execution_count": 253,
   "metadata": {},
   "outputs": [
    {
     "name": "stderr",
     "output_type": "stream",
     "text": [
      "C:\\Users\\pk949\\Anaconda3\\envs\\PythonData\\lib\\site-packages\\ipykernel_launcher.py:10: MatplotlibDeprecationWarning: Adding an axes using the same arguments as a previous axes currently reuses the earlier instance.  In a future version, a new instance will always be created and returned.  Meanwhile, this warning can be suppressed, and the future behavior ensured, by passing a unique label to each axes instance.\n",
      "  # Remove the CWD from sys.path while we load stuff.\n"
     ]
    },
    {
     "data": {
      "text/plain": [
       "Text(0, 0.5, 'Temp (F)')"
      ]
     },
     "execution_count": 253,
     "metadata": {},
     "output_type": "execute_result"
    },
    {
     "data": {
      "image/png": "[encoded data removed]",
      "text/plain": [
       "<Figure size 122.4x432 with 1 Axes>"
      ]
     },
     "metadata": {},
     "output_type": "display_data"
    }
   ],
   "source": [
    "# Plot the results from your previous query as a bar chart. \n",
    "# Use \"Trip Avg Temp\" as your Title\n",
    "# Use the average temperature for the y value\n",
    "# Use the peak-to-peak (tmax-tmin) value as the y error bar (yerr)\n",
    "# Load the query into a dataframe, set the index to the date, and plot the ptps\n",
    "\n",
    "plt.figure(figsize = (1.7,6))\n",
    "error = [(max) - (min) ]\n",
    "plt.bar(0, avg, yerr = error, align= 'center', color = \"coral\", alpha =0.5)\n",
    "ax1 = plt.axes()\n",
    "x_axis = ax1.axes.get_xaxis()\n",
    "x_axis.set_visible(False)\n",
    "plt.title(\"Trip Avg Temp\")\n",
    "plt.ylabel(\"Temp (F)\")"
   ]
  },
  {
   "cell_type": "markdown",
   "metadata": {},
   "source": [
    "## Optional Challenge Assignment"
   ]
  },
  {
   "cell_type": "code",
   "execution_count": 523,
   "metadata": {},
   "outputs": [
    {
     "data": {
      "text/plain": [
       "[(62.0, 69.15384615384616, 77.0)]"
      ]
     },
     "execution_count": 523,
     "metadata": {},
     "output_type": "execute_result"
    }
   ],
   "source": [
    "# Create a query that will calculate the daily normals \n",
    "# (i.e. the averages for tmin, tmax, and tavg for all historic data matching a specific month and day)\n",
    "\n",
    "def daily_normals(date):\n",
    "    \"\"\"Daily Normals.\n",
    "    \n",
    "    Args:\n",
    "        date (str): A date string in the format '%m-%d'\n",
    "        \n",
    "    Returns:\n",
    "        A list of tuples containing the daily normals, tmin, tavg, and tmax\n",
    "    \n",
    "    \"\"\"\n",
    "    \n",
    "    sel = [func.min(Measurement.tobs), func.avg(Measurement.tobs), func.max(Measurement.tobs)]\n",
    "    return session.query(*sel).filter(func.strftime(\"%m-%d\", Measurement.date) == date).all()\n",
    "    \n",
    "daily_normals(\"01-01\")"
   ]
  },
  {
   "cell_type": "code",
   "execution_count": 522,
   "metadata": {
    "collapsed": true
   },
   "outputs": [],
   "source": [
    "# Calculate the total amount of rainfall per weather station for your trip dates using the previous year's matching dates of:\n",
    "#     2016-08-23 to 2017-08-23\n",
    "# Sort this in descending order by precipitation amount and list the station, name, latitude, longitude, and elevation\n",
    "\n"
   ]
  },
  {
   "cell_type": "code",
   "execution_count": 524,
   "metadata": {
    "collapsed": true
   },
   "outputs": [],
   "source": [
    "# Calculate the daily normals for the dates from 2016-08-23 to 2017-08-23\n",
    "\n",
    "# push each tuple of calculations into a list called `normals`\n",
    "\n",
    "def daily_normals(date):\n",
    "    sel = [func.min(Measurement.tobs), func.avg(Measurement.tobs), func.max(Measurement.tobs)]\n",
    "    return session.query(*sel).filter(func.strftime(\"%m-%d\", Measurement.date) == date).all()\n",
    "\n",
    "daily_normals(\"01-01\")\n",
    "\n",
    "###prcp_date_df = pd.DataFrame(oneyr_prcp)\n",
    "###prcp_date_df.head(5)\n",
    "\n",
    "# Set the start and end date of the trip\n",
    "\n",
    "# Use the start and end date to create a range of dates\n",
    "\n",
    "# Stip off the year and save a list of %m-%d strings\n",
    "\n",
    "# Loop through the list of %m-%d strings and calculate the normals for each date\n"
   ]
  },
  {
   "cell_type": "code",
   "execution_count": 525,
   "metadata": {
    "collapsed": true
   },
   "outputs": [],
   "source": [
    "# Load the previous query results into a Pandas DataFrame and add the `trip_dates` range as the `date` index\n"
   ]
  },
  {
   "cell_type": "code",
   "execution_count": 526,
   "metadata": {
    "collapsed": true
   },
   "outputs": [],
   "source": [
    "# Plot the daily normals as an area plot with `stacked=False`\n"
   ]
  },
  {
   "cell_type": "code",
   "execution_count": null,
   "metadata": {
    "collapsed": true
   },
   "outputs": [],
   "source": []
  },
  {
   "cell_type": "code",
   "execution_count": null,
   "metadata": {
    "collapsed": true
   },
   "outputs": [],
   "source": []
  },
  {
   "cell_type": "code",
   "execution_count": null,
   "metadata": {
    "collapsed": true
   },
   "outputs": [],
   "source": []
  }
 ],
 "metadata": {
  "kernel_info": {
   "name": "python3"
  },
  "kernelspec": {
   "display_name": "Python 3",
   "language": "python",
   "name": "python3"
  },
  "language_info": {
   "codemirror_mode": {
    "name": "ipython",
    "version": 3
   },
   "file_extension": ".py",
   "mimetype": "text/x-python",
   "name": "python",
   "nbconvert_exporter": "python",
   "pygments_lexer": "ipython3",
   "version": "3.6.8"
  },
  "nteract": {
   "version": "0.12.3"
  },
  "varInspector": {
   "cols": {
    "lenName": 16,
    "lenType": 16,
    "lenVar": 40
   },
   "kernels_config": {
    "python": {
     "delete_cmd_postfix": "",
     "delete_cmd_prefix": "del ",
     "library": "var_list.py",
     "varRefreshCmd": "print(var_dic_list())"
    },
    "r": {
     "delete_cmd_postfix": ") ",
     "delete_cmd_prefix": "rm(",
     "library": "var_list.r",
     "varRefreshCmd": "cat(var_dic_list()) "
    }
   },
   "types_to_exclude": [
    "module",
    "function",
    "builtin_function_or_method",
    "instance",
    "_Feature"
   ],
   "window_display": false
  }
 },
 "nbformat": 4,
 "nbformat_minor": 2
}
